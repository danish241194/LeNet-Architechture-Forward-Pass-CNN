{
 "cells": [
  {
   "cell_type": "markdown",
   "metadata": {},
   "source": [
    "### Danish"
   ]
  },
  {
   "cell_type": "markdown",
   "metadata": {},
   "source": [
    "### Question Number 1"
   ]
  },
  {
   "cell_type": "markdown",
   "metadata": {},
   "source": [
    "### Forward Pass in CNN"
   ]
  },
  {
   "cell_type": "code",
   "execution_count": 356,
   "metadata": {},
   "outputs": [],
   "source": [
    "'''\n",
    "Importing Library Statements\n",
    "'''\n",
    "import numpy as np\n",
    "import cv2\n",
    "from tensorflow.keras.datasets import mnist\n",
    "import matplotlib.pyplot as plt\n",
    "(X_train, y_train), (X_test, y_test) = mnist.load_data()"
   ]
  },
  {
   "cell_type": "code",
   "execution_count": 357,
   "metadata": {},
   "outputs": [
    {
     "data": {
      "text/plain": [
       "<matplotlib.image.AxesImage at 0x7f97b0355780>"
      ]
     },
     "execution_count": 357,
     "metadata": {},
     "output_type": "execute_result"
    },
    {
     "data": {
      "image/png": "[encoded data removed]",
      "text/plain": [
       "<Figure size 432x288 with 1 Axes>"
      ]
     },
     "metadata": {
      "needs_background": "light"
     },
     "output_type": "display_data"
    }
   ],
   "source": [
    "'''\n",
    "Getting Image from MNIST dataset as it is of gray form so converting image to RGB\n",
    "'''\n",
    "from PIL import Image\n",
    "img = Image.fromarray(X_test[1])\n",
    "img = img.resize((32,32))\n",
    "img = cv2.cvtColor(np.array(img),cv2.COLOR_GRAY2RGB)\n",
    "plt.imshow(img)"
   ]
  },
  {
   "cell_type": "markdown",
   "metadata": {},
   "source": [
    "### Input Image"
   ]
  },
  {
   "cell_type": "code",
   "execution_count": 379,
   "metadata": {},
   "outputs": [],
   "source": [
    "'''\n",
    "Returns Relu Function\n",
    "'''\n",
    "def RELU(Z):\n",
    "    A = np.maximum(0, Z)\n",
    "    assert(A.shape == Z.shape)\n",
    "    return A\n",
    "'''\n",
    "Returns Softmax Function\n",
    "'''\n",
    "def SOFTMAX(Z):\n",
    "    max_each_col = Z.max(axis=0)\n",
    "    e_z = np.exp(Z - max_each_col)\n",
    "    softmax_Z = e_z / np.sum(e_z, axis=0)\n",
    "    assert(softmax_Z.shape == Z.shape)\n",
    "    return softmax_Z\n",
    "'''\n",
    "Returns Sigmoid Function\n",
    "'''\n",
    "def SIGMOID(Z):\n",
    "    return 1 /(1+np.exp(-Z))\n",
    "\n",
    "'''\n",
    "Returns tanh Function\n",
    "'''\n",
    "def TANH(Z):\n",
    "    return np.tanh(Z)"
   ]
  },
  {
   "cell_type": "code",
   "execution_count": 359,
   "metadata": {},
   "outputs": [],
   "source": [
    "def scan(img,filter_,stride):\n",
    "    '''\n",
    "    This function convolutes over one channel and hence result is of (2D) M x N size\n",
    "    '''\n",
    "    new_ = np.zeros((int((img.shape[0]-filter_.shape[0])/stride+1),int((img.shape[1]-filter_.shape[1])/stride+1)))\n",
    "    channel = img.shape[2]\n",
    "    filter_row = filter_.shape[0]\n",
    "    filter_colum = filter_.shape[1]\n",
    "    for i in range(img.shape[0]-filter_.shape[0]+1):\n",
    "        for j in range(img.shape[1]-filter_.shape[1]+1):\n",
    "            sum_=0;\n",
    "            for channel_no in range(channel):\n",
    "                sum_+=np.sum(img[i:i+filter_row,j:j+filter_colum,channel_no]*filter_[:,:,channel_no])\n",
    "            new_[i,j]=sum_\n",
    "    return new_"
   ]
  },
  {
   "cell_type": "code",
   "execution_count": 360,
   "metadata": {},
   "outputs": [],
   "source": [
    "def show_images_in_layer(images):\n",
    "    '''\n",
    "    We retrieve all channels and will plot one by one\n",
    "    here sub will maintain plot number\n",
    "    '''\n",
    "    sub=1\n",
    "    depth=images.shape[2]\n",
    "    for i in range(depth):\n",
    "        plt.subplot(1,depth,sub)\n",
    "        plt.xticks([], [])  \n",
    "        plt.yticks([], [])  \n",
    "        plt.imshow(images[:,:,i])\n",
    "        sub+=1\n",
    "    plt.show()"
   ]
  },
  {
   "cell_type": "code",
   "execution_count": 361,
   "metadata": {},
   "outputs": [],
   "source": [
    "def convolve(image,filters,filter_shape,stride):\n",
    "    '''\n",
    "    image with all layeres\n",
    "    filters - number of filters\n",
    "    filter_shape [m,n]\n",
    "    \n",
    "    '''\n",
    "    result_output = np.zeros((int((image.shape[0]-filter_shape[0])/stride+1),int((image.shape[1]-filter_shape[1])/stride+1),filters))\n",
    "    for i in range(filters):\n",
    "        filter_ = np.random.randn(filter_shape[0],filter_shape[1],filter_shape[2])\n",
    "        result = scan(image,filter_,stride)\n",
    "        result_output[:,:,i]=result\n",
    "    return result_output"
   ]
  },
  {
   "cell_type": "code",
   "execution_count": 362,
   "metadata": {},
   "outputs": [],
   "source": [
    "def max_pool_single(img,filter_shape,stride):\n",
    "    new_ = np.zeros((int((img.shape[0]-filter_shape[0])/stride+1),int((img.shape[1]-filter_shape[1])/stride+1)))\n",
    "    filter_row = filter_shape[0]\n",
    "    filter_colum = filter_shape[1]\n",
    "    \n",
    "    for i in range(0,img.shape[0],stride):\n",
    "        for j in range(0,img.shape[1],stride):\n",
    "            max_=np.max(img[i:i+filter_row,j:j+filter_colum])\n",
    "            new_[int(i/stride),int(j/stride)]=max_\n",
    "    return new_"
   ]
  },
  {
   "cell_type": "code",
   "execution_count": 363,
   "metadata": {},
   "outputs": [],
   "source": [
    "def max_pooling(image,filter_shape,stride):\n",
    "    '''\n",
    "    image with all layers\n",
    "    filter_shape [m,n]\n",
    "    \n",
    "    '''\n",
    "    result_output = np.zeros((int((image.shape[0]-filter_shape[0])/stride+1),int((image.shape[1]-filter_shape[1])/stride+1),image.shape[2]))\n",
    "    total_channels = image.shape[2]\n",
    "    for i in range(total_channels):\n",
    "        result = max_pool_single(image[:,:,i],filter_shape,stride)\n",
    "        result_output[:,:,i]=result\n",
    "    return result_output"
   ]
  },
  {
   "cell_type": "code",
   "execution_count": 377,
   "metadata": {
    "scrolled": false
   },
   "outputs": [
    {
     "name": "stdout",
     "output_type": "stream",
     "text": [
      "Convolution layer1 Act-RELU\n",
      "(28, 28, 6)\n"
     ]
    },
    {
     "data": {
      "image/png": "[encoded data removed]",
      "text/plain": [
       "<Figure size 432x288 with 6 Axes>"
      ]
     },
     "metadata": {},
     "output_type": "display_data"
    },
    {
     "name": "stdout",
     "output_type": "stream",
     "text": [
      "Max Pooling\n",
      "(14, 14, 6)\n"
     ]
    },
    {
     "data": {
      "image/png": "[encoded data removed]",
      "text/plain": [
       "<Figure size 432x288 with 6 Axes>"
      ]
     },
     "metadata": {},
     "output_type": "display_data"
    },
    {
     "name": "stdout",
     "output_type": "stream",
     "text": [
      "Convolution layer12 Act-RELU\n",
      "(10, 10, 16)\n"
     ]
    },
    {
     "data": {
      "image/png": "[encoded data removed]",
      "text/plain": [
       "<Figure size 432x288 with 16 Axes>"
      ]
     },
     "metadata": {},
     "output_type": "display_data"
    },
    {
     "name": "stdout",
     "output_type": "stream",
     "text": [
      "Max Pooling\n",
      "(5, 5, 16)\n"
     ]
    },
    {
     "data": {
      "image/png": "[encoded data removed]",
      "text/plain": [
       "<Figure size 432x288 with 16 Axes>"
      ]
     },
     "metadata": {},
     "output_type": "display_data"
    },
    {
     "name": "stdout",
     "output_type": "stream",
     "text": [
      "Fully Connected Layers\n",
      "\n",
      "Layer1\n",
      "Input - 400 Output - 120 Act-Relu\n",
      "\n",
      "Layer2\n",
      "Input - 120 Output - 84 Act-Relu\n",
      "\n",
      "Output Layer\n",
      "Input - 84 Output - 10 Act-Softmax\n",
      "\n",
      "Result =  2\n"
     ]
    }
   ],
   "source": [
    "print(\"Convolution layer1 Act-RELU\")\n",
    "result = RELU(convolve(img,6,[5,5,3],1))\n",
    "print(result.shape)\n",
    "show_images_in_layer(result)\n",
    "\n",
    "print(\"Max Pooling\")\n",
    "new_layer = max_pooling(result,[2,2],2)\n",
    "print(new_layer.shape)\n",
    "show_images_in_layer(new_layer)\n",
    "\n",
    "print(\"Convolution layer12 Act-RELU\")\n",
    "result = RELU(convolve(new_layer,16,[5,5,6],1))\n",
    "print(result.shape)\n",
    "show_images_in_layer(result)\n",
    "\n",
    "print(\"Max Pooling\")\n",
    "new_layer = max_pooling(result,[2,2],2)\n",
    "print(new_layer.shape)\n",
    "show_images_in_layer(new_layer)\n",
    "\n",
    "flatted_image = new_layer.flatten()\n",
    "flatted_image = flatted_image.reshape(flatted_image.shape[0],1)\n",
    "\n",
    "print(\"Fully Connected Layers\")\n",
    "print()\n",
    "print(\"Layer1\")\n",
    "print(\"Input - 400 Output - 120 Act-Relu\")\n",
    "W1 = np.random.randn(120,flatted_image.shape[0])\n",
    "B1 = np.random.randn(120,1)\n",
    "output_from_layer_1 = RELU(np.dot(W1,flatted_image)+B1)\n",
    "\n",
    "print(\"\\nLayer2\")\n",
    "print(\"Input - 120 Output - 84 Act-Relu\")\n",
    "W2 = np.random.randn(84,output_from_layer_1.shape[0])\n",
    "B2 = np.random.randn(84,1)\n",
    "output_from_layer_2 = RELU(np.dot(W2,output_from_layer_1)+B2)\n",
    "\n",
    "print(\"\\nOutput Layer\")\n",
    "print(\"Input - 84 Output - 10 Act-Softmax\")\n",
    "W3 = np.random.randn(10,output_from_layer_2.shape[0])\n",
    "B3 = np.random.randn(10,1)\n",
    "output = SOFTMAX(np.dot(W3,output_from_layer_2)+B3)\n",
    "print(\"\\nResult = \",np.argmax(output))"
   ]
  },
  {
   "cell_type": "markdown",
   "metadata": {},
   "source": [
    "### Question Number 2"
   ]
  },
  {
   "cell_type": "markdown",
   "metadata": {},
   "source": [
    "#### 1\n",
    "\n",
    "Number of Parameters in 1st convolutional layer = filter shape x number of filters in 1st convolutional layer = 5 x 5 x 3 x 6 = 450\n",
    "\n",
    "#### 2\n",
    "\n",
    "Number of Parameters in pooling operation = 0\n",
    "\n",
    "#### 3\n",
    "Total Fully Connected layer parameters = (400 x 120 + 120) +(120 x 84 +84 )+ (84 x 10 +10)\n",
    "Total COnvolution layer parameters = ( 5 x 5 x 3 x 6) + (5 x 5 x 6 x 16)\n",
    "\n",
    "hence FC has more number of parameters\n",
    "\n",
    "#### 4\n",
    "\n",
    "Initital Convolutional layers consume most ammount of memory\n",
    "\n",
    "#### 5\n",
    "OBSERVATIONS FROM DIFFERENT ACTIVATION FUNCTIONS\n",
    "#### SIGMOID\n"
   ]
  },
  {
   "cell_type": "code",
   "execution_count": 384,
   "metadata": {},
   "outputs": [
    {
     "name": "stdout",
     "output_type": "stream",
     "text": [
      "Convolution layer1 Act-Sigmoid\n",
      "(28, 28, 6)\n"
     ]
    },
    {
     "data": {
      "image/png": "[encoded data removed]",
      "text/plain": [
       "<Figure size 432x288 with 6 Axes>"
      ]
     },
     "metadata": {},
     "output_type": "display_data"
    },
    {
     "name": "stdout",
     "output_type": "stream",
     "text": [
      "Max Pooling\n",
      "(14, 14, 6)\n"
     ]
    },
    {
     "data": {
      "image/png": "[encoded data removed]",
      "text/plain": [
       "<Figure size 432x288 with 6 Axes>"
      ]
     },
     "metadata": {},
     "output_type": "display_data"
    },
    {
     "name": "stdout",
     "output_type": "stream",
     "text": [
      "Convolution layer12 Act-Sigmoid\n",
      "(10, 10, 16)\n"
     ]
    },
    {
     "data": {
      "image/png": "[encoded data removed]",
      "text/plain": [
       "<Figure size 432x288 with 16 Axes>"
      ]
     },
     "metadata": {},
     "output_type": "display_data"
    },
    {
     "name": "stdout",
     "output_type": "stream",
     "text": [
      "Max Pooling\n",
      "(5, 5, 16)\n"
     ]
    },
    {
     "data": {
      "image/png": "[encoded data removed]",
      "text/plain": [
       "<Figure size 432x288 with 16 Axes>"
      ]
     },
     "metadata": {},
     "output_type": "display_data"
    },
    {
     "name": "stdout",
     "output_type": "stream",
     "text": [
      "Fully Connected Layers\n",
      "\n",
      "Layer1\n",
      "Input - 400 Output - 120 Act-Sigmoid\n",
      "\n",
      "Layer2\n",
      "Input - 120 Output - 84 Act-Sigmoid\n",
      "\n",
      "Output Layer\n",
      "Input - 84 Output - 10 Act-Softmax\n",
      "\n",
      "Result =  2\n"
     ]
    }
   ],
   "source": [
    "print(\"Convolution layer1 Act-Sigmoid\")\n",
    "result = SIGMOID(convolve(img,6,[5,5,3],1))\n",
    "print(result.shape)\n",
    "show_images_in_layer(result)\n",
    "\n",
    "print(\"Max Pooling\")\n",
    "new_layer = max_pooling(result,[2,2],2)\n",
    "print(new_layer.shape)\n",
    "show_images_in_layer(new_layer)\n",
    "\n",
    "print(\"Convolution layer12 Act-Sigmoid\")\n",
    "result = SIGMOID(convolve(new_layer,16,[5,5,6],1))\n",
    "print(result.shape)\n",
    "show_images_in_layer(result)\n",
    "\n",
    "print(\"Max Pooling\")\n",
    "new_layer = max_pooling(result,[2,2],2)\n",
    "print(new_layer.shape)\n",
    "show_images_in_layer(new_layer)\n",
    "\n",
    "flatted_image = new_layer.flatten()\n",
    "flatted_image = flatted_image.reshape(flatted_image.shape[0],1)\n",
    "\n",
    "print(\"Fully Connected Layers\")\n",
    "print()\n",
    "print(\"Layer1\")\n",
    "print(\"Input - 400 Output - 120 Act-Sigmoid\")\n",
    "W1 = np.random.randn(120,flatted_image.shape[0])\n",
    "B1 = np.random.randn(120,1)\n",
    "output_from_layer_1 = SIGMOID(np.dot(W1,flatted_image)+B1)\n",
    "\n",
    "print(\"\\nLayer2\")\n",
    "print(\"Input - 120 Output - 84 Act-Sigmoid\")\n",
    "W2 = np.random.randn(84,output_from_layer_1.shape[0])\n",
    "B2 = np.random.randn(84,1)\n",
    "output_from_layer_2 = SIGMOID(np.dot(W2,output_from_layer_1)+B2)\n",
    "\n",
    "print(\"\\nOutput Layer\")\n",
    "print(\"Input - 84 Output - 10 Act-Softmax\")\n",
    "W3 = np.random.randn(10,output_from_layer_2.shape[0])\n",
    "B3 = np.random.randn(10,1)\n",
    "output = SOFTMAX(np.dot(W3,output_from_layer_2)+B3)\n",
    "print(\"\\nResult = \",np.argmax(output))"
   ]
  },
  {
   "cell_type": "markdown",
   "metadata": {},
   "source": [
    "#### TANH"
   ]
  },
  {
   "cell_type": "code",
   "execution_count": 383,
   "metadata": {},
   "outputs": [
    {
     "name": "stdout",
     "output_type": "stream",
     "text": [
      "Convolution layer1 Act-tanh\n",
      "(28, 28, 6)\n"
     ]
    },
    {
     "data": {
      "image/png": "[encoded data removed]",
      "text/plain": [
       "<Figure size 432x288 with 6 Axes>"
      ]
     },
     "metadata": {},
     "output_type": "display_data"
    },
    {
     "name": "stdout",
     "output_type": "stream",
     "text": [
      "Max Pooling\n",
      "(14, 14, 6)\n"
     ]
    },
    {
     "data": {
      "image/png": "[encoded data removed]",
      "text/plain": [
       "<Figure size 432x288 with 6 Axes>"
      ]
     },
     "metadata": {},
     "output_type": "display_data"
    },
    {
     "name": "stdout",
     "output_type": "stream",
     "text": [
      "Convolution layer12 Act-tanh\n",
      "(10, 10, 16)\n"
     ]
    },
    {
     "data": {
      "image/png": "[encoded data removed]",
      "text/plain": [
       "<Figure size 432x288 with 16 Axes>"
      ]
     },
     "metadata": {},
     "output_type": "display_data"
    },
    {
     "name": "stdout",
     "output_type": "stream",
     "text": [
      "Max Pooling\n",
      "(5, 5, 16)\n"
     ]
    },
    {
     "data": {
      "image/png": "[encoded data removed]",
      "text/plain": [
       "<Figure size 432x288 with 16 Axes>"
      ]
     },
     "metadata": {},
     "output_type": "display_data"
    },
    {
     "name": "stdout",
     "output_type": "stream",
     "text": [
      "Fully Connected Layers\n",
      "\n",
      "Layer1\n",
      "Input - 400 Output - 120 Act-tanh\n",
      "\n",
      "Layer2\n",
      "Input - 120 Output - 84 Act-tanh\n",
      "\n",
      "Output Layer\n",
      "Input - 84 Output - 10 Act-Softmax\n",
      "\n",
      "Result =  4\n"
     ]
    }
   ],
   "source": [
    "print(\"Convolution layer1 Act-tanh\")\n",
    "result = TANH(convolve(img,6,[5,5,3],1))\n",
    "print(result.shape)\n",
    "show_images_in_layer(result)\n",
    "\n",
    "print(\"Max Pooling\")\n",
    "new_layer = max_pooling(result,[2,2],2)\n",
    "print(new_layer.shape)\n",
    "show_images_in_layer(new_layer)\n",
    "\n",
    "print(\"Convolution layer12 Act-tanh\")\n",
    "result = TANH(convolve(new_layer,16,[5,5,6],1))\n",
    "print(result.shape)\n",
    "show_images_in_layer(result)\n",
    "\n",
    "print(\"Max Pooling\")\n",
    "new_layer = max_pooling(result,[2,2],2)\n",
    "print(new_layer.shape)\n",
    "show_images_in_layer(new_layer)\n",
    "\n",
    "flatted_image = new_layer.flatten()\n",
    "flatted_image = flatted_image.reshape(flatted_image.shape[0],1)\n",
    "\n",
    "print(\"Fully Connected Layers\")\n",
    "print()\n",
    "print(\"Layer1\")\n",
    "print(\"Input - 400 Output - 120 Act-tanh\")\n",
    "W1 = np.random.randn(120,flatted_image.shape[0])\n",
    "B1 = np.random.randn(120,1)\n",
    "output_from_layer_1 = TANH(np.dot(W1,flatted_image)+B1)\n",
    "\n",
    "print(\"\\nLayer2\")\n",
    "print(\"Input - 120 Output - 84 Act-tanh\")\n",
    "W2 = np.random.randn(84,output_from_layer_1.shape[0])\n",
    "B2 = np.random.randn(84,1)\n",
    "output_from_layer_2 = TANH(np.dot(W2,output_from_layer_1)+B2)\n",
    "\n",
    "print(\"\\nOutput Layer\")\n",
    "print(\"Input - 84 Output - 10 Act-Softmax\")\n",
    "W3 = np.random.randn(10,output_from_layer_2.shape[0])\n",
    "B3 = np.random.randn(10,1)\n",
    "output = SOFTMAX(np.dot(W3,output_from_layer_2)+B3)\n",
    "print(\"\\nResult = \",np.argmax(output))"
   ]
  }
 ],
 "metadata": {
  "kernelspec": {
   "display_name": "Python 3",
   "language": "python",
   "name": "python3"
  },
  "language_info": {
   "codemirror_mode": {
    "name": "ipython",
    "version": 3
   },
   "file_extension": ".py",
   "mimetype": "text/x-python",
   "name": "python",
   "nbconvert_exporter": "python",
   "pygments_lexer": "ipython3",
   "version": "3.7.1"
  }
 },
 "nbformat": 4,
 "nbformat_minor": 2
}
